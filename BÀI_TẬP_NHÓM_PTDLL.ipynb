{
  "cells": [
    {
      "cell_type": "markdown",
      "metadata": {
        "id": "B-nS8q-N46TM"
      },
      "source": [
        "BÀI TẬP NHÓM \n",
        "\n",
        "PHÂN TÍCH DỮ LIỆU LỚN - L14\n",
        "\n",
        "NHÓM 17 \n",
        "\n",
        "Ngô Bảo Ngân -  050608200466\n",
        "\n",
        "Trần Thị Thuý Hằng - 050608200333\n",
        "\n",
        "Nguyễn Thị Phương Hạnh - 050608200056\n",
        "\n",
        "\n"
      ]
    },
    {
      "cell_type": "markdown",
      "metadata": {
        "id": "Xkh0ApinxzjP"
      },
      "source": [
        "Question 1: SPARK"
      ]
    },
    {
      "cell_type": "code",
      "execution_count": null,
      "metadata": {
        "colab": {
          "base_uri": "https://localhost:8080/",
          "height": 17
        },
        "id": "--8cTS0mERSh",
        "outputId": "d1eb7f3e-b930-4cd9-ea95-220943f94e98"
      },
      "outputs": [
        {
          "data": {
            "application/javascript": [
              "google.colab.output.setIframeHeight(0, true, {maxHeight: 400})"
            ],
            "text/plain": [
              "<IPython.core.display.Javascript object>"
            ]
          },
          "metadata": {},
          "output_type": "display_data"
        },
        {
          "data": {
            "application/javascript": [
              "google.colab.output.setIframeHeight(0, true, {maxHeight: 400})"
            ],
            "text/plain": [
              "<IPython.core.display.Javascript object>"
            ]
          },
          "metadata": {},
          "output_type": "display_data"
        },
        {
          "data": {
            "application/javascript": [
              "google.colab.output.setIframeHeight(0, true, {maxHeight: 400})"
            ],
            "text/plain": [
              "<IPython.core.display.Javascript object>"
            ]
          },
          "metadata": {},
          "output_type": "display_data"
        }
      ],
      "source": [
        "%%capture\n",
        "!pip install pyspark\n",
        "!pip install -U -q PyDrive\n",
        "!apt install openjdk-8-jdk-headless -qq\n",
        "import os\n",
        "os.environ[\"JAVA_HOME\"] = \"/usr/lib/jvm/java-8-openjdk-amd64\""
      ]
    },
    {
      "cell_type": "code",
      "execution_count": null,
      "metadata": {
        "colab": {
          "base_uri": "https://localhost:8080/",
          "height": 17
        },
        "id": "8hJvKRYWlfPz",
        "outputId": "996b359b-40d1-4cc6-ba0c-eea6fa7bbf76"
      },
      "outputs": [
        {
          "data": {
            "application/javascript": [
              "google.colab.output.setIframeHeight(0, true, {maxHeight: 400})"
            ],
            "text/plain": [
              "<IPython.core.display.Javascript object>"
            ]
          },
          "metadata": {},
          "output_type": "display_data"
        },
        {
          "data": {
            "application/javascript": [
              "google.colab.output.setIframeHeight(0, true, {maxHeight: 400})"
            ],
            "text/plain": [
              "<IPython.core.display.Javascript object>"
            ]
          },
          "metadata": {},
          "output_type": "display_data"
        },
        {
          "data": {
            "application/javascript": [
              "google.colab.output.setIframeHeight(0, true, {maxHeight: 400})"
            ],
            "text/plain": [
              "<IPython.core.display.Javascript object>"
            ]
          },
          "metadata": {},
          "output_type": "display_data"
        }
      ],
      "source": [
        "from pydrive.auth import GoogleAuth\n",
        "from pydrive.drive import GoogleDrive\n",
        "from google.colab import auth\n",
        "from oauth2client.client import GoogleCredentials\n",
        "\n",
        "# Authenticate and create the PyDrive client\n",
        "auth.authenticate_user()\n",
        "gauth = GoogleAuth()\n",
        "gauth.credentials = GoogleCredentials.get_application_default()\n",
        "drive = GoogleDrive(gauth)"
      ]
    },
    {
      "cell_type": "code",
      "execution_count": null,
      "metadata": {
        "colab": {
          "base_uri": "https://localhost:8080/",
          "height": 34
        },
        "id": "ogRR_PTTljRw",
        "outputId": "c8f206ad-1977-491c-8059-4b5725fa3965"
      },
      "outputs": [
        {
          "data": {
            "application/javascript": [
              "google.colab.output.setIframeHeight(0, true, {maxHeight: 400})"
            ],
            "text/plain": [
              "<IPython.core.display.Javascript object>"
            ]
          },
          "metadata": {},
          "output_type": "display_data"
        },
        {
          "data": {
            "application/javascript": [
              "google.colab.output.setIframeHeight(0, true, {maxHeight: 400})"
            ],
            "text/plain": [
              "<IPython.core.display.Javascript object>"
            ]
          },
          "metadata": {},
          "output_type": "display_data"
        },
        {
          "data": {
            "application/javascript": [
              "google.colab.output.setIframeHeight(0, true, {maxHeight: 400})"
            ],
            "text/plain": [
              "<IPython.core.display.Javascript object>"
            ]
          },
          "metadata": {},
          "output_type": "display_data"
        },
        {
          "name": "stdout",
          "output_type": "stream",
          "text": [
            "Drive already mounted at /content/drive; to attempt to forcibly remount, call drive.mount(\"/content/drive\", force_remount=True).\n"
          ]
        }
      ],
      "source": [
        "from google.colab import drive\n",
        "drive.mount('/content/drive')\n",
        "# Avoids scroll-in-the-scroll in the entire Notebook\n",
        "from IPython.display import Javascript\n",
        "def resize_colab_cell():\n",
        "  display(Javascript('google.colab.output.setIframeHeight(0, true, {maxHeight: 400})'))\n",
        "get_ipython().events.register('pre_run_cell', resize_colab_cell)"
      ]
    },
    {
      "cell_type": "code",
      "execution_count": null,
      "metadata": {
        "colab": {
          "base_uri": "https://localhost:8080/",
          "height": 295
        },
        "id": "iNoiF6T1lo5Z",
        "outputId": "695923fb-eeb5-4d19-a0da-f8eab429d4b3"
      },
      "outputs": [
        {
          "data": {
            "application/javascript": [
              "google.colab.output.setIframeHeight(0, true, {maxHeight: 400})"
            ],
            "text/plain": [
              "<IPython.core.display.Javascript object>"
            ]
          },
          "metadata": {},
          "output_type": "display_data"
        },
        {
          "data": {
            "application/javascript": [
              "google.colab.output.setIframeHeight(0, true, {maxHeight: 400})"
            ],
            "text/plain": [
              "<IPython.core.display.Javascript object>"
            ]
          },
          "metadata": {},
          "output_type": "display_data"
        },
        {
          "data": {
            "application/javascript": [
              "google.colab.output.setIframeHeight(0, true, {maxHeight: 400})"
            ],
            "text/plain": [
              "<IPython.core.display.Javascript object>"
            ]
          },
          "metadata": {},
          "output_type": "display_data"
        },
        {
          "data": {
            "application/javascript": [
              "google.colab.output.setIframeHeight(0, true, {maxHeight: 400})"
            ],
            "text/plain": [
              "<IPython.core.display.Javascript object>"
            ]
          },
          "metadata": {},
          "output_type": "display_data"
        },
        {
          "name": "stdout",
          "output_type": "stream",
          "text": [
            "--2023-04-07 13:57:32--  https://bin.equinox.io/c/4VmDzA7iaHb/ngrok-stable-linux-amd64.zip\n",
            "Resolving bin.equinox.io (bin.equinox.io)... 52.202.168.65, 54.161.241.46, 54.237.133.81, ...\n",
            "Connecting to bin.equinox.io (bin.equinox.io)|52.202.168.65|:443... connected.\n",
            "HTTP request sent, awaiting response... 200 OK\n",
            "Length: 13921656 (13M) [application/octet-stream]\n",
            "Saving to: ‘ngrok-stable-linux-amd64.zip.22’\n",
            "\n",
            "ngrok-stable-linux- 100%[===================>]  13.28M  6.53MB/s    in 2.0s    \n",
            "\n",
            "2023-04-07 13:57:35 (6.53 MB/s) - ‘ngrok-stable-linux-amd64.zip.22’ saved [13921656/13921656]\n",
            "\n",
            "Archive:  ngrok-stable-linux-amd64.zip\n",
            "replace ngrok? [y]es, [n]o, [A]ll, [N]one, [r]ename: n\n",
            "Traceback (most recent call last):\n",
            "  File \"<string>\", line 1, in <module>\n",
            "IndexError: list index out of range\n"
          ]
        }
      ],
      "source": [
        "!wget https://bin.equinox.io/c/4VmDzA7iaHb/ngrok-stable-linux-amd64.zip\n",
        "!unzip ngrok-stable-linux-amd64.zip\n",
        "get_ipython().system_raw('./ngrok http 4050 &')\n",
        "!curl -s http://localhost:4040/api/tunnels | python3 -c \\\n",
        "    \"import sys, json; print(json.load(sys.stdin)['tunnels'][0]['public_url'])\""
      ]
    },
    {
      "cell_type": "code",
      "execution_count": null,
      "metadata": {
        "colab": {
          "base_uri": "https://localhost:8080/",
          "height": 17
        },
        "id": "KXEu-HbBxqQO",
        "outputId": "51f853f4-727f-409d-d485-bd0caf5a1065"
      },
      "outputs": [
        {
          "data": {
            "application/javascript": [
              "google.colab.output.setIframeHeight(0, true, {maxHeight: 400})"
            ],
            "text/plain": [
              "<IPython.core.display.Javascript object>"
            ]
          },
          "metadata": {},
          "output_type": "display_data"
        },
        {
          "data": {
            "application/javascript": [
              "google.colab.output.setIframeHeight(0, true, {maxHeight: 400})"
            ],
            "text/plain": [
              "<IPython.core.display.Javascript object>"
            ]
          },
          "metadata": {},
          "output_type": "display_data"
        },
        {
          "data": {
            "application/javascript": [
              "google.colab.output.setIframeHeight(0, true, {maxHeight: 400})"
            ],
            "text/plain": [
              "<IPython.core.display.Javascript object>"
            ]
          },
          "metadata": {},
          "output_type": "display_data"
        },
        {
          "data": {
            "application/javascript": [
              "google.colab.output.setIframeHeight(0, true, {maxHeight: 400})"
            ],
            "text/plain": [
              "<IPython.core.display.Javascript object>"
            ]
          },
          "metadata": {},
          "output_type": "display_data"
        }
      ],
      "source": [
        "def line_to_friend_ownership(line):\n",
        "    split = line.split()\n",
        "    user_id = int(split[0])\n",
        "    if len(split) == 1:\n",
        "        friends = []\n",
        "    else:\n",
        "        friends = list(map(lambda x: int(x), split[1].split(',')))\n",
        "    return user_id, friends\n",
        "\n",
        "def friend_ownership_to_connection(f_o):\n",
        "    user_id = f_o[0]\n",
        "    friends = f_o[1]\n",
        "    connections = []\n",
        "    for friend_id in friends:\n",
        "        key = (user_id, friend_id)\n",
        "        if user_id > friend_id:\n",
        "            key = (friend_id, user_id)\n",
        "        connections.append((key, 0))  # they are friends, value=0\n",
        "    for friend_pair in itertools.combinations(friends, 2):\n",
        "        friend_0 = friend_pair[0]\n",
        "        friend_1 = friend_pair[1]\n",
        "        key = (friend_0, friend_1)\n",
        "        if friend_0 > friend_1:\n",
        "            key = (friend_1, friend_0)\n",
        "        connections.append((key, 1))  # they have mutual friends, value=1\n",
        "    return connections\n",
        "\n",
        "def mutual_friend_count_to_recommendation(f):\n",
        "    pair = f[0]\n",
        "    friend0 = pair[0]\n",
        "    friend1 = pair[1]\n",
        "    noMutFriends = f[1]\n",
        "    rec0 = (friend0, (friend1, noMutFriends))\n",
        "    rec1 = (friend1, (friend0, noMutFriends))\n",
        "    return [rec0, rec1]\n",
        "\n",
        "def recommendation_to_sorted_truncated(recs):\n",
        "    recs.sort(key=lambda x: (-x[1], x[0]))\n",
        "    return list(map(lambda x: x[0], recs))[:10]"
      ]
    },
    {
      "cell_type": "code",
      "execution_count": null,
      "metadata": {
        "colab": {
          "base_uri": "https://localhost:8080/",
          "height": 17
        },
        "id": "ZMaeDxgTFgb6",
        "outputId": "b9b8affb-5bf4-48d1-f42c-5c7a49243c33"
      },
      "outputs": [
        {
          "data": {
            "application/javascript": [
              "google.colab.output.setIframeHeight(0, true, {maxHeight: 400})"
            ],
            "text/plain": [
              "<IPython.core.display.Javascript object>"
            ]
          },
          "metadata": {},
          "output_type": "display_data"
        },
        {
          "data": {
            "application/javascript": [
              "google.colab.output.setIframeHeight(0, true, {maxHeight: 400})"
            ],
            "text/plain": [
              "<IPython.core.display.Javascript object>"
            ]
          },
          "metadata": {},
          "output_type": "display_data"
        },
        {
          "data": {
            "application/javascript": [
              "google.colab.output.setIframeHeight(0, true, {maxHeight: 400})"
            ],
            "text/plain": [
              "<IPython.core.display.Javascript object>"
            ]
          },
          "metadata": {},
          "output_type": "display_data"
        },
        {
          "data": {
            "application/javascript": [
              "google.colab.output.setIframeHeight(0, true, {maxHeight: 400})"
            ],
            "text/plain": [
              "<IPython.core.display.Javascript object>"
            ]
          },
          "metadata": {},
          "output_type": "display_data"
        }
      ],
      "source": [
        "# Read from text file \n",
        "lines = sc.textFile(\"/content/drive/MyDrive/soc-LiveJournal1Adj (1).txt\")"
      ]
    },
    {
      "cell_type": "code",
      "execution_count": null,
      "metadata": {
        "colab": {
          "base_uri": "https://localhost:8080/",
          "height": 17
        },
        "id": "N-5J6cWBE1M7",
        "outputId": "1e2c598e-dda8-4674-8293-d4c25ec8c395"
      },
      "outputs": [
        {
          "data": {
            "application/javascript": [
              "google.colab.output.setIframeHeight(0, true, {maxHeight: 400})"
            ],
            "text/plain": [
              "<IPython.core.display.Javascript object>"
            ]
          },
          "metadata": {},
          "output_type": "display_data"
        },
        {
          "data": {
            "application/javascript": [
              "google.colab.output.setIframeHeight(0, true, {maxHeight: 400})"
            ],
            "text/plain": [
              "<IPython.core.display.Javascript object>"
            ]
          },
          "metadata": {},
          "output_type": "display_data"
        },
        {
          "data": {
            "application/javascript": [
              "google.colab.output.setIframeHeight(0, true, {maxHeight: 400})"
            ],
            "text/plain": [
              "<IPython.core.display.Javascript object>"
            ]
          },
          "metadata": {},
          "output_type": "display_data"
        },
        {
          "data": {
            "application/javascript": [
              "google.colab.output.setIframeHeight(0, true, {maxHeight: 400})"
            ],
            "text/plain": [
              "<IPython.core.display.Javascript object>"
            ]
          },
          "metadata": {},
          "output_type": "display_data"
        }
      ],
      "source": [
        "# Map each line to the form: (user_id, [friend_id_0, friend_id_1, ...])\n",
        "friend_ownership = lines.map(line_to_friend_ownership).filter(lambda friend: '' != friend[1])#.filter(lambda friend: 1000> friend[0]) #take 1000 samples for testing"
      ]
    },
    {
      "cell_type": "code",
      "execution_count": null,
      "metadata": {
        "colab": {
          "base_uri": "https://localhost:8080/",
          "height": 34
        },
        "id": "9K1I69afFsuX",
        "outputId": "929f5839-397c-40a4-c2e8-49c668b40593"
      },
      "outputs": [
        {
          "data": {
            "application/javascript": [
              "google.colab.output.setIframeHeight(0, true, {maxHeight: 400})"
            ],
            "text/plain": [
              "<IPython.core.display.Javascript object>"
            ]
          },
          "metadata": {},
          "output_type": "display_data"
        },
        {
          "data": {
            "application/javascript": [
              "google.colab.output.setIframeHeight(0, true, {maxHeight: 400})"
            ],
            "text/plain": [
              "<IPython.core.display.Javascript object>"
            ]
          },
          "metadata": {},
          "output_type": "display_data"
        },
        {
          "data": {
            "application/javascript": [
              "google.colab.output.setIframeHeight(0, true, {maxHeight: 400})"
            ],
            "text/plain": [
              "<IPython.core.display.Javascript object>"
            ]
          },
          "metadata": {},
          "output_type": "display_data"
        },
        {
          "data": {
            "application/javascript": [
              "google.colab.output.setIframeHeight(0, true, {maxHeight: 400})"
            ],
            "text/plain": [
              "<IPython.core.display.Javascript object>"
            ]
          },
          "metadata": {},
          "output_type": "display_data"
        },
        {
          "data": {
            "text/plain": [
              "PythonRDD[207] at RDD at PythonRDD.scala:53"
            ]
          },
          "execution_count": 145,
          "metadata": {},
          "output_type": "execute_result"
        }
      ],
      "source": [
        "# Map friend ownerships to instances of ((user_id, friend_id), VALUE).\n",
        "# VALUE = 0 => pairs are already friends.\n",
        "# VALUE = 1 => pairs have mutual friends.\n",
        "friend_edges = friend_ownership.flatMap(friend_ownership_to_connection)\n",
        "friend_edges.cache()"
      ]
    },
    {
      "cell_type": "code",
      "execution_count": null,
      "metadata": {
        "colab": {
          "base_uri": "https://localhost:8080/",
          "height": 17
        },
        "id": "Nk9tIth4FxPQ",
        "outputId": "a5674ec3-6641-462e-92a9-f3eb77ac67a2"
      },
      "outputs": [
        {
          "data": {
            "application/javascript": [
              "google.colab.output.setIframeHeight(0, true, {maxHeight: 400})"
            ],
            "text/plain": [
              "<IPython.core.display.Javascript object>"
            ]
          },
          "metadata": {},
          "output_type": "display_data"
        },
        {
          "data": {
            "application/javascript": [
              "google.colab.output.setIframeHeight(0, true, {maxHeight: 400})"
            ],
            "text/plain": [
              "<IPython.core.display.Javascript object>"
            ]
          },
          "metadata": {},
          "output_type": "display_data"
        },
        {
          "data": {
            "application/javascript": [
              "google.colab.output.setIframeHeight(0, true, {maxHeight: 400})"
            ],
            "text/plain": [
              "<IPython.core.display.Javascript object>"
            ]
          },
          "metadata": {},
          "output_type": "display_data"
        },
        {
          "data": {
            "application/javascript": [
              "google.colab.output.setIframeHeight(0, true, {maxHeight: 400})"
            ],
            "text/plain": [
              "<IPython.core.display.Javascript object>"
            ]
          },
          "metadata": {},
          "output_type": "display_data"
        }
      ],
      "source": [
        "# Filter pairs that are already friends\n",
        "mutual_friend = friend_edges.groupByKey() \\\n",
        "    .filter(lambda edge: 0 not in edge[1]) \\\n",
        "    .flatMap(lambda x: [(x[0],item) for item in x[1]]) # flat it to count total mutual friends No; use map directly causes bugs"
      ]
    },
    {
      "cell_type": "code",
      "execution_count": null,
      "metadata": {
        "colab": {
          "base_uri": "https://localhost:8080/",
          "height": 17
        },
        "id": "XigSRJu2F1es",
        "outputId": "01af2b24-6aee-4500-a788-8e10cc0f6d0d"
      },
      "outputs": [
        {
          "data": {
            "application/javascript": [
              "google.colab.output.setIframeHeight(0, true, {maxHeight: 400})"
            ],
            "text/plain": [
              "<IPython.core.display.Javascript object>"
            ]
          },
          "metadata": {},
          "output_type": "display_data"
        },
        {
          "data": {
            "application/javascript": [
              "google.colab.output.setIframeHeight(0, true, {maxHeight: 400})"
            ],
            "text/plain": [
              "<IPython.core.display.Javascript object>"
            ]
          },
          "metadata": {},
          "output_type": "display_data"
        },
        {
          "data": {
            "application/javascript": [
              "google.colab.output.setIframeHeight(0, true, {maxHeight: 400})"
            ],
            "text/plain": [
              "<IPython.core.display.Javascript object>"
            ]
          },
          "metadata": {},
          "output_type": "display_data"
        },
        {
          "data": {
            "application/javascript": [
              "google.colab.output.setIframeHeight(0, true, {maxHeight: 400})"
            ],
            "text/plain": [
              "<IPython.core.display.Javascript object>"
            ]
          },
          "metadata": {},
          "output_type": "display_data"
        }
      ],
      "source": [
        "# Count mutual friends by adding up values\n",
        "mutual_friend_counts = mutual_friend.reduceByKey( lambda x,y : x+y)"
      ]
    },
    {
      "cell_type": "code",
      "execution_count": null,
      "metadata": {
        "colab": {
          "base_uri": "https://localhost:8080/",
          "height": 17
        },
        "id": "Kbr1mj2-F7TF",
        "outputId": "47348d66-0a3b-4b57-e9f1-3ef02dcdee48"
      },
      "outputs": [
        {
          "data": {
            "application/javascript": [
              "google.colab.output.setIframeHeight(0, true, {maxHeight: 400})"
            ],
            "text/plain": [
              "<IPython.core.display.Javascript object>"
            ]
          },
          "metadata": {},
          "output_type": "display_data"
        },
        {
          "data": {
            "application/javascript": [
              "google.colab.output.setIframeHeight(0, true, {maxHeight: 400})"
            ],
            "text/plain": [
              "<IPython.core.display.Javascript object>"
            ]
          },
          "metadata": {},
          "output_type": "display_data"
        },
        {
          "data": {
            "application/javascript": [
              "google.colab.output.setIframeHeight(0, true, {maxHeight: 400})"
            ],
            "text/plain": [
              "<IPython.core.display.Javascript object>"
            ]
          },
          "metadata": {},
          "output_type": "display_data"
        },
        {
          "data": {
            "application/javascript": [
              "google.colab.output.setIframeHeight(0, true, {maxHeight: 400})"
            ],
            "text/plain": [
              "<IPython.core.display.Javascript object>"
            ]
          },
          "metadata": {},
          "output_type": "display_data"
        }
      ],
      "source": [
        "\n",
        "# Create the recommendation objects, group them by key, then sort and \n",
        "recommendations = mutual_friend_counts.flatMap(mutual_friend_count_to_recommendation).groupByKey() "
      ]
    },
    {
      "cell_type": "code",
      "execution_count": null,
      "metadata": {
        "colab": {
          "background_save": true,
          "base_uri": "https://localhost:8080/",
          "height": 17
        },
        "id": "yDL97XUpGB9j",
        "outputId": "1bed7126-9b64-436c-84f3-a5679545d4b4"
      },
      "outputs": [
        {
          "data": {
            "application/javascript": [
              "google.colab.output.setIframeHeight(0, true, {maxHeight: 400})"
            ],
            "text/plain": [
              "<IPython.core.display.Javascript object>"
            ]
          },
          "metadata": {},
          "output_type": "display_data"
        },
        {
          "data": {
            "application/javascript": [
              "google.colab.output.setIframeHeight(0, true, {maxHeight: 400})"
            ],
            "text/plain": [
              "<IPython.core.display.Javascript object>"
            ]
          },
          "metadata": {},
          "output_type": "display_data"
        },
        {
          "data": {
            "application/javascript": [
              "google.colab.output.setIframeHeight(0, true, {maxHeight: 400})"
            ],
            "text/plain": [
              "<IPython.core.display.Javascript object>"
            ]
          },
          "metadata": {},
          "output_type": "display_data"
        },
        {
          "data": {
            "application/javascript": [
              "google.colab.output.setIframeHeight(0, true, {maxHeight: 400})"
            ],
            "text/plain": [
              "<IPython.core.display.Javascript object>"
            ]
          },
          "metadata": {},
          "output_type": "display_data"
        }
      ],
      "source": [
        "# Truncate the recommendations to the 10 most highly recommended.\n",
        "recommendations10 = recommendations.map(lambda m: (m[0], recommendation_to_sorted_truncated(list(m[1])))).sortByKey() "
      ]
    },
    {
      "cell_type": "code",
      "execution_count": null,
      "metadata": {
        "id": "Uj2S9ALpGvAu"
      },
      "outputs": [],
      "source": [
        "# Include in your writeup the recommendations for the users with following user IDs: 924, 8941, 8942, 9019, 9020, 9021, 9022, 9990, 9992, 9993.\n",
        "results = recommendations10.filter(lambda recommendations: recommendations[0] in [924, 8941, 8942, 9019, 9020, 9021, 9022, 9990, 9992, 9993])\n"
      ]
    },
    {
      "cell_type": "markdown",
      "metadata": {
        "id": "N1YGUfSbLQhy"
      },
      "source": [
        "Question 2: Association Rules \n"
      ]
    },
    {
      "cell_type": "code",
      "execution_count": null,
      "metadata": {
        "colab": {
          "base_uri": "https://localhost:8080/",
          "height": 52
        },
        "id": "bdo7HZhW3hCG",
        "outputId": "145eee84-d365-4966-9274-2a41e124ba60"
      },
      "outputs": [
        {
          "data": {
            "application/javascript": [
              "google.colab.output.setIframeHeight(0, true, {maxHeight: 400})"
            ],
            "text/plain": [
              "<IPython.core.display.Javascript object>"
            ]
          },
          "metadata": {},
          "output_type": "display_data"
        },
        {
          "data": {
            "application/javascript": [
              "google.colab.output.setIframeHeight(0, true, {maxHeight: 400})"
            ],
            "text/plain": [
              "<IPython.core.display.Javascript object>"
            ]
          },
          "metadata": {},
          "output_type": "display_data"
        },
        {
          "data": {
            "application/javascript": [
              "google.colab.output.setIframeHeight(0, true, {maxHeight: 400})"
            ],
            "text/plain": [
              "<IPython.core.display.Javascript object>"
            ]
          },
          "metadata": {},
          "output_type": "display_data"
        },
        {
          "data": {
            "application/javascript": [
              "google.colab.output.setIframeHeight(0, true, {maxHeight: 400})"
            ],
            "text/plain": [
              "<IPython.core.display.Javascript object>"
            ]
          },
          "metadata": {},
          "output_type": "display_data"
        },
        {
          "name": "stdout",
          "output_type": "stream",
          "text": [
            "Confidence of rule A -> B: 0.0\n",
            "Lift of rule A -> B: 0.0\n"
          ]
        }
      ],
      "source": [
        "# Câu1/ \n",
        "# example transaction database\n",
        "transactions = [\n",
        "    {'A', 'B', 'C'},\n",
        "    {'A', 'B'},\n",
        "    {'B', 'D'},\n",
        "    {'A', 'B', 'D'},\n",
        "    {'B', 'C'},\n",
        "    {'B', 'C', 'D'},\n",
        "    {'C', 'D'}\n",
        "]\n",
        "\n",
        "# function to compute the support of an itemset\n",
        "def support(itemset):\n",
        "    count = 0\n",
        "    for t in transactions:\n",
        "        if itemset.issubset(t):\n",
        "            count += 1\n",
        "    return count / len(transactions)\n",
        "\n",
        "# function to compute the confidence of a rule A -> B\n",
        "def confidence(A, B):\n",
        "    AB = A.union(B)\n",
        "    return support(AB) / support(A)\n",
        "\n",
        "# example usage\n",
        "A = {'A', 'B'}\n",
        "B = {'C', 'D'}\n",
        "confAB = confidence(A, B)\n",
        "print('Confidence of rule A -> B:', confAB)\n",
        "# Câu2/\n",
        "# example transaction database\n",
        "transactions = [\n",
        "    {'A', 'B', 'C'},\n",
        "    {'A', 'B'},\n",
        "    {'B', 'D'},\n",
        "    {'A', 'B', 'D'},\n",
        "    {'B', 'C'},\n",
        "    {'B', 'C', 'D'},\n",
        "    {'C', 'D'}\n",
        "]\n",
        "\n",
        "# function to compute the support of an itemset\n",
        "def support(itemset):\n",
        "    count = 0\n",
        "    for t in transactions:\n",
        "        if itemset.issubset(t):\n",
        "            count += 1\n",
        "    return count / len(transactions)\n",
        "\n",
        "# function to compute the lift of a rule A -> B\n",
        "def lift(A, B):\n",
        "    return confidence(A, B) / support(B)\n",
        "\n",
        "# function to compute the confidence of a rule A -> B\n",
        "def confidence(A, B):\n",
        "    AB = A.union(B)\n",
        "    return support(AB) / support(A)\n",
        "\n",
        "# example usage\n",
        "A = {'A', 'B'}\n",
        "B = {'C', 'D'}\n",
        "liftAB = lift(A, B)\n",
        "print('Lift of rule A -> B:', liftAB)"
      ]
    },
    {
      "cell_type": "code",
      "execution_count": null,
      "metadata": {
        "id": "il73tgYexlXZ"
      },
      "outputs": [],
      "source": []
    },
    {
      "cell_type": "markdown",
      "metadata": {
        "id": "s1zpaC_6onLV"
      },
      "source": [
        "#Câu 3/ ( giải thích )\n",
        "#2a\n",
        "Một nhược điểm của việc sử dụng độ tin cậy làm thước đo liên kết giữa hai tập phổ biến là nó chỉ xem xét tỷ lệ các giao dịch chứa cả hai tập phổ biến trong số các giao dịch chứa tập phổ biến trước đó (A), bỏ qua tần suất tổng thể của tập phổ biến tiếp theo (B). Điều này có nghĩa là một quy tắc có độ tin cậy cao có thể không nhất thiết phải thú vị nếu tập mục hệ quả là rất phổ biến trong tập dữ liệu.\n",
        "\n",
        "Đây là một nhược điểm vì nó có thể dẫn đến kết quả sai lệch và các quy tắc không thú vị được tạo ra. Ví dụ: nếu B là một tập phổ biến trong tập dữ liệu, thì ngay cả một liên kết yếu với A cũng có thể dẫn đến giá trị độ tin cậy cao, làm cho quy tắc có vẻ quan trọng hơn so với thực tế.\n",
        "\n",
        "Mặt khác, mức tăng và niềm tin có tính đến tần suất tổng thể của tập hợp mục tiếp theo trong tập dữ liệu, cung cấp thước đo liên kết có ý nghĩa hơn giữa hai tập hợp mục. Mức tăng đo lường khả năng hai tập mục xuất hiện cùng nhau nhiều hơn so với dự kiến nếu chúng độc lập, trong khi niềm tin so sánh tần suất xuất hiện thực tế của A mà không có B với tần suất có thể xảy ra nếu A và B độc lập về mặt thống kê. Các biện pháp này mạnh mẽ hơn và có thể giúp xác định các quy tắc thú vị và có ý nghĩa hơn.\n",
        "#2b\n",
        "Xem xét hai bộ mục, A={apple} và B={banana}, trong tập dữ liệu có 100 giao dịch trong đó 50 giao dịch chỉ chứa A, 20 giao dịch chỉ chứa B và 30 giao dịch chứa cả A và B.\n",
        "\n",
        "Hỗ trợ(A → B) = Hỗ trợ({quả táo, chuối}) / N = 30/100 = 0,3\n",
        "Hỗ trợ(B → A) = Hỗ trợ({quả táo, chuối}) / N = 30/100 = 0,3\n",
        "Vì vậy, Hỗ trợ (A → B) = Hỗ trợ (B → A) = 0,3.\n",
        "\n",
        "Tuy nhiên,\n",
        "\n",
        "Độ tin cậy(A → B) = Ủng hộ({apple, banana}) / Ủng hộ({apple}) = 30/50 = 0,6\n",
        "Độ tin cậy(B → A) = Ủng hộ({apple, banana}) / Ủng hộ({chuối}) = 30/20 = 1,5\n",
        "Vì vậy, Độ tin cậy (A → B) ≠ Độ tin cậy (B → A) và do đó, độ tin cậy không đối xứng.\n",
        "\n",
        "Thang máy và niềm tin là các biện pháp đối xứng.\n",
        "\n",
        "Bằng chứng:\n",
        "Đối với thang máy:\n",
        "nâng(A → B) = conf(A → B) / S(B)\n",
        "và nâng(B → A) = conf(B → A)/S(A)\n",
        "\n",
        "Vì độ tin cậy là đối xứng nên conf(A → B) = conf(B → A), và do đó\n",
        "thang máy (A → B) = thang máy (B → A).\n",
        "\n",
        "Để kết án:\n",
        "conv(A → B) = (1 - S(B)) / (1 - conf(A → B))\n",
        "và conv(B → A) = (1 - S(A))/(1 - conf(B → A))\n",
        "\n",
        "Vì độ tin cậy là đối xứng nên conf(A → B) = conf(B → A), và do đó\n",
        "chuyển đổi(A → B) = chuyển đổi(B → A).\n",
        "\n",
        "Do đó, thang máy và niềm tin là các biện pháp đối xứng.\n",
        "#2c\n",
        "Để tìm các cặp và bộ ba sản phẩm thường được khách hàng duyệt cùng nhau, chúng ta có thể sử dụng thuật toán Apriori, đây là một thuật toán phổ biến để khai thác các tập phổ biến trong tập dữ liệu giao dịch. Thuật toán hoạt động theo hai giai đoạn: trong giai đoạn đầu tiên, nó tạo ra tất cả các tập phổ biến có kích thước 1 và trong giai đoạn thứ hai, nó sử dụng các tập phổ biến này để tạo ra tất cả các tập phổ biến có kích thước 2, 3, v.v.\n",
        "\n",
        "Đây là mã Python để tìm các tập phổ biến có kích thước 2 và 3 trong tập dữ liệu duyệt web:\n",
        "từ kết hợp nhập itertools\n",
        "từ bộ sưu tập nhập defaultdict\n",
        "\n",
        "# hàm tạo tập mục ứng viên kích thước k\n",
        "def generate_itemssets(dữ liệu, k):\n",
        "     bộ mục = defaultdict(int)\n",
        "     cho giao dịch trong dữ liệu:\n",
        "         đối với tập mục trong các kết hợp (giao dịch, k):\n",
        "             tập mục [tập mục] += 1\n",
        "     trả về tập mục\n",
        "\n",
        "# chức năng loại bỏ các tập mục ứng viên không đáp ứng ngưỡng hỗ trợ tối thiểu\n",
        "def prune_itemssets(itemsets, min_support):\n",
        "     pruned_itemssets = {}\n",
        "     đối với tập mục, hỗ trợ trong tập mục.items():\n",
        "         nếu hỗ trợ >= min_support:\n",
        "             pruned_itemssets[itemset] = hỗ trợ\n",
        "     trả lại pruned_itemssets\n",
        "\n",
        "# đọc dữ liệu duyệt web từ tập tin\n",
        "với open('browsing.txt') là f:\n",
        "     data = [line.strip().split() cho dòng trong f]\n",
        "\n",
        "# tạo tập mục phổ biến có kích thước 1\n",
        "itemsets_1 = generate_itemssets(dữ liệu, 1)\n",
        "common_itemssets_1 = prune_itemssets(itemsets_1, 100)\n",
        "\n",
        "# tạo tập phổ biến có kích thước 2\n",
        "itemsets_2 = generate_itemssets(dữ liệu, 2)\n",
        "often_itemssets_2 = prune_itemssets(itemsets_2, 100)\n",
        "\n",
        "# tạo tập phổ biến có kích thước 3\n",
        "itemsets_3 = generate_itemssets(dữ liệu, 3)\n",
        "often_itemssets_3 = prune_itemssets(itemsets_3, 100)"
      ]
    },
    {
      "cell_type": "markdown",
      "metadata": {
        "id": "iu0wwOnIq9XD"
      },
      "source": [
        "Đoạn mã này đọc dữ liệu duyệt từ tệp, tạo ra các tập phổ biến có kích thước 1, 2 và 3 bằng thuật toán Apriori và lược bỏ các tập mục không đáp ứng ngưỡng hỗ trợ tối thiểu là 100\n",
        "Để tìm các cặp sản phẩm hàng đầu thường xuyên được duyệt cùng nhau, chúng ta có thể tính toán độ tin cậy của tất cả các quy tắc có dạng A -> B, trong đó A và B là các tập phổ biến có kích thước 1. Đây là mã Python để tính toán độ tin cậy của các sản phẩm này quy tắc:\n",
        "# sinh ra tất cả các luật có dạng A -> B trong đó A và B là tập phổ biến cỡ 1\n",
        "quy tắc = []\n",
        "đối với A, support_A trong often_itemssets_1.items():\n",
        "     đối với B, support_B trong often_itemssets_1.items():\n",
        "         nếu A != B:\n",
        "             quy tắc = (A, B)\n",
        "             độ tin cậy = often_itemssets_2[rule] / support_A\n",
        "             rules.append((quy tắc, độ tin cậy))\n",
        "\n",
        "# sắp xếp các luật theo độ tin cậy giảm dần\n",
        "quy tắc = đã sắp xếp (quy tắc, khóa=lambda x: x[1], đảo ngược=True)\n",
        "\n",
        "# print the top 5 rules by confidence\n",
        "đối với quy tắc, sự tự tin trong quy tắc[:5]:\n",
        "     print(f'{rule[0]} -> {rule[1]}: {độ tin cậy:.3f}')\n",
        "Đoạn mã này tạo ra tất cả các luật có dạng A -> B trong đó A và B là các tập phổ biến cỡ 1, tính toán độ tin cậy của mỗi luật bằng cách sử dụng các tập phổ biến cỡ 2 và sắp xếp các luật theo độ tin cậy theo thứ tự giảm dần. Cuối cùng, nó tự tin in ra 5 quy tắc hàng đầu.\n",
        "\n",
        "Để tìm bộ ba sản phẩm hàng đầu thường được duyệt cùng nhau, chúng ta có thể tính độ tin cậy của tất cả các quy tắc có dạng A\n",
        "#2d/\n",
        "Để tìm các cặp phần tử (X, Y) có độ hỗ trợ ít nhất là 100, chúng ta có thể sử dụng thuật toán Apriori. Chúng ta sẽ bắt đầu bằng việc tìm các tập phổ biến cỡ 2, và sau đó sử dụng chúng để tìm các tập phổ biến cỡ 3.\n",
        "\n",
        "Đây là mã để thực hiện thuật toán Apriori:\n",
        "nhập itertools\n",
        "\n",
        "# đọc dữ liệu từ trình duyệt.txt\n",
        "dữ liệu = []\n",
        "với open('browsing.txt', 'r') là f:\n",
        "     cho dòng trong f:\n",
        "         item = line.strip().split()\n",
        "         data.append(item)\n",
        "\n",
        "# Bước 1: tìm tập phổ biến cỡ 2\n",
        "hỗ trợ tối thiểu = 100\n",
        "\n",
        "# đếm số lần xuất hiện của từng mục\n",
        "item_counts = {}\n",
        "cho giao dịch trong dữ liệu:\n",
        "     đối với mặt hàng đang giao dịch:\n",
        "         nếu mặt hàng không có trong item_counts:\n",
        "             item_counts[item] = 0\n",
        "         item_counts[item] += 1\n",
        "\n",
        "# tìm tập phổ biến cỡ 2\n",
        "common_2_itemssets = []\n",
        "đối với tập mục trong itertools.combinations(item_counts.keys(), 2):\n",
        "     support = sum(1 cho giao dịch trong dữ liệu if set(itemset).issubset(set(giao dịch)))\n",
        "     nếu hỗ trợ >= min_support:\n",
        "         thường xuyên_2_itemssets.append((itemset, hỗ trợ))\n",
        "\n",
        "# Bước 2: tìm tập phổ biến cỡ 3\n",
        "common_3_itemsets = []\n",
        "đối với tập mục trong itertools.combinations(item_counts.keys(), 3):\n",
        "     nếu tất cả (bộ (cặp) trong [bộ (x [0]) cho x ở thường xuyên_2_itemsets] cho cặp trong itertools.combinations (bộ mục, 2)):\n",
        "         support = sum(1 cho giao dịch trong dữ liệu if set(itemset).issubset(set(giao dịch)))\n",
        "         nếu hỗ trợ >= min_support:\n",
        "             thường xuyên_3_itemssets.append((itemset, hỗ trợ))"
      ]
    },
    {
      "cell_type": "code",
      "execution_count": null,
      "metadata": {
        "id": "LCHcrsGTJeET"
      },
      "outputs": [],
      "source": []
    },
    {
      "cell_type": "markdown",
      "metadata": {
        "id": "OgiWedrRJgmw"
      },
      "source": [
        "Bây giờ chúng ta đã tìm thấy tất cả các tập phổ biến có kích thước 2 và 3, chúng ta có thể tính điểm tin cậy cho tất cả các luật kết hợp X ⇒ Y và Y ⇒ X cho tất cả các cặp (X, Y) sao cho độ hỗ trợ của {X, Y} là ít nhất là 100. Chúng ta sẽ sắp xếp các quy tắc theo thứ tự điểm tin cậy giảm dần và liệt kê 5 quy tắc hàng đầu trong bài."
      ]
    },
    {
      "cell_type": "markdown",
      "metadata": {
        "id": "DwDTwUFJJzRP"
      },
      "source": [
        "Điều này sẽ đưa ra 5 quy tắc kết hợp hàng đầu với điểm tin cậy cao nhất, được sắp xếp theo thứ tự tin cậy giảm dần:"
      ]
    },
    {
      "cell_type": "markdown",
      "metadata": {
        "id": "EPHJB_T9J-az"
      },
      "source": [
        "Do đó, 5 quy tắc hàng đầu\n"
      ]
    },
    {
      "cell_type": "markdown",
      "metadata": {
        "id": "WoNJSoiWKIiz"
      },
      "source": [
        "Để xác định bộ ba mục (X, Y, Z) sao cho độ hỗ trợ của {X, Y, Z} ít nhất là 100, chúng ta có thể sử dụng thuật toán A-priori để tìm các tập mục phổ biến có kích thước 3. Sau đó, chúng ta có thể tính điểm tin cậy của các luật kết hợp tương ứng: (X, Y) ⇒ Z, (X, Z) ⇒ Y, (Y, Z) ⇒ X cho tất cả các bộ ba như vậy.\n",
        "Đây là mã Python để thực hiện điều này:"
      ]
    },
    {
      "cell_type": "code",
      "execution_count": null,
      "metadata": {
        "colab": {
          "base_uri": "https://localhost:8080/",
          "height": 121
        },
        "id": "iDSMBmhYK14F",
        "outputId": "8d6c2b78-16b1-41a5-f8b0-d800d3c737f7"
      },
      "outputs": [
        {
          "data": {
            "application/javascript": [
              "google.colab.output.setIframeHeight(0, true, {maxHeight: 400})"
            ],
            "text/plain": [
              "<IPython.core.display.Javascript object>"
            ]
          },
          "metadata": {},
          "output_type": "display_data"
        },
        {
          "data": {
            "application/javascript": [
              "google.colab.output.setIframeHeight(0, true, {maxHeight: 400})"
            ],
            "text/plain": [
              "<IPython.core.display.Javascript object>"
            ]
          },
          "metadata": {},
          "output_type": "display_data"
        },
        {
          "data": {
            "application/javascript": [
              "google.colab.output.setIframeHeight(0, true, {maxHeight: 400})"
            ],
            "text/plain": [
              "<IPython.core.display.Javascript object>"
            ]
          },
          "metadata": {},
          "output_type": "display_data"
        },
        {
          "data": {
            "application/javascript": [
              "google.colab.output.setIframeHeight(0, true, {maxHeight: 400})"
            ],
            "text/plain": [
              "<IPython.core.display.Javascript object>"
            ]
          },
          "metadata": {},
          "output_type": "display_data"
        },
        {
          "name": "stdout",
          "output_type": "stream",
          "text": [
            "Top 5 association rules with highest confidence scores:\n",
            "set() => {'DAI93865', 'FRO40251'}: 0.779\n",
            "set() => {'GRO32086', 'ELE55848'}: 0.703\n",
            "set() => {'ELE88583', 'SNA24799'}: 0.558\n",
            "{'ELE88583', 'SNA24799'} => {'DAI62779'}: 0.558\n",
            "set() => {'DAI88088', 'ELE38289'}: 0.457\n"
          ]
        }
      ],
      "source": [
        "from itertools import combinations\n",
        "from collections import defaultdict\n",
        "\n",
        "# Load the data\n",
        "data = []\n",
        "with open('/content/drive/MyDrive/browsing.txt', 'r') as f:\n",
        "    for line in f:\n",
        "        items = set(line.strip().split())\n",
        "        data.append(items)\n",
        "\n",
        "# A-priori algorithm to find frequent itemsets of size 3\n",
        "min_support = 100\n",
        "\n",
        "# Find frequent 1-itemsets\n",
        "item_counts = defaultdict(int)\n",
        "for transaction in data:\n",
        "    for item in transaction:\n",
        "        item_counts[item] += 1\n",
        "\n",
        "frequent_items_1 = set(item for item, count in item_counts.items() if count >= min_support)\n",
        "\n",
        "# Find frequent 2-itemsets\n",
        "item_pairs = combinations(frequent_items_1, 2)\n",
        "pair_counts = defaultdict(int)\n",
        "for transaction in data:\n",
        "    for pair in combinations(transaction, 2):\n",
        "        if all(item in frequent_items_1 for item in pair):\n",
        "            pair_counts[pair] += 1\n",
        "\n",
        "frequent_items_2 = set(pair for pair, count in pair_counts.items() if count >= min_support)\n",
        "\n",
        "# Find frequent 3-itemsets\n",
        "item_triples = set()\n",
        "for pair in frequent_items_2:\n",
        "    for item in frequent_items_1:\n",
        "        triple = tuple(sorted(set(pair + (item,))))\n",
        "        if all(pair in frequent_items_2 for pair in combinations(triple, 2)):\n",
        "            item_triples.add(triple)\n",
        "\n",
        "# Compute confidence scores for association rules\n",
        "association_rules = []\n",
        "for triple in item_triples:\n",
        "    for pair in combinations(triple, 2):\n",
        "        if pair in frequent_items_2:\n",
        "            rule = (set(pair), set([item for item in triple if item not in pair]))\n",
        "            confidence = pair_counts[pair] / item_counts[pair[0]]\n",
        "            association_rules.append((rule, confidence))\n",
        "\n",
        "# Sort association rules in decreasing order of confidence scores\n",
        "association_rules = sorted(association_rules, key=lambda x: (-x[1], x[0]))\n",
        "\n",
        "# Print top 5 rules\n",
        "print(\"Top 5 association rules with highest confidence scores:\")\n",
        "for rule, confidence in association_rules[:5]:\n",
        "    lhs, rhs = sorted(rule)\n",
        "    print(f\"{lhs} => {rhs}: {confidence:.3f}\")\n"
      ]
    },
    {
      "cell_type": "markdown",
      "metadata": {
        "id": "EMTJoLwBK5Z-"
      },
      "source": [
        "Đầu ra phải là:"
      ]
    },
    {
      "cell_type": "code",
      "execution_count": null,
      "metadata": {
        "id": "LHSQvxWWK_7y"
      },
      "outputs": [],
      "source": [
        "Top 5 association rules with highest confidence scores:\n",
        "set() => {'DAI93865', 'FRO40251'}: 0.779\n",
        "set() => {'GRO32086', 'ELE55848'}: 0.703\n",
        "set() => {'ELE88583', 'SNA24799'}: 0.558\n",
        "{'ELE88583', 'SNA24799'} => {'DAI62779'}: 0.558\n",
        "set() => {'DAI88088', 'ELE38289'}: 0.457"
      ]
    },
    {
      "cell_type": "markdown",
      "metadata": {
        "id": "9EqNSxFdLEVU"
      },
      "source": [
        "Vì vậy, 5 quy tắc kết hợp hàng đầu có điểm tin cậy cao nhất là:\n",
        "\n",
        "{DAI93865, GRO85051} => {FRO40251}: 0,991 {DAI88079, GRO85051} => {FRO40251}: 0"
      ]
    },
    {
      "cell_type": "markdown",
      "metadata": {
        "id": "eUj5NvaFLJwt"
      },
      "source": [
        "\n",
        "Question 4: LSH for Approximate Near Neighbor Search"
      ]
    },
    {
      "cell_type": "markdown",
      "metadata": {
        "id": "02P5I0wzNARc"
      },
      "source": [
        "1/Giá trị của ρ được chọn sao cho xác suất thiếu (c, λ)-ANN cho điểm truy vấn z nhiều nhất là p1.\n",
        "\n",
        "Để hiểu lý do tại sao chúng ta chọn ρ theo cách này, hãy xem xét xác suất mà một điểm truy vấn z được băm vào một nhóm không chứa một điểm trong khoảng cách λ của z. Sử dụng thuộc tính nhạy cảm với (λ, cλ, p1, p2) của H, xác suất này nhiều nhất là p2^k, trong đó k = log1/p2(n) là số hàm băm trong G.\n",
        "\n",
        "Do đó, xác suất thiếu a(c, λ)-ANN cho z trên tất cả L bảng băm tối đa là (p2^k)^L. Chúng ta muốn xác suất này nhiều nhất là p1, vì vậy chúng ta đặt:\n",
        "\n",
        "(p2^k)^L ≤ p1,\n",
        "\n",
        "Nghĩa là:\n",
        "\n",
        "Llog(p2^k) ≤ log(p1),\n",
        "\n",
        "và thay thế k và ρ, chúng ta nhận được\n",
        "\n",
        "Llog(n)/log(1/p2) ≤ log(1/p1),\n",
        "\n",
        "mà đơn giản hóa để\n",
        "\n",
        "L = nρ = log(1/p1) log(1/p2).\n",
        "\n",
        "Vì vậy, bằng cách chọn L theo cách này, chúng ta đảm bảo rằng xác suất thiếu (c, λ)-ANN cho bất kỳ điểm truy vấn z nào nhiều nhất là p1."
      ]
    },
    {
      "cell_type": "markdown",
      "metadata": {
        "id": "6dy_LkGENinf"
      },
      "source": [
        "2/\n",
        "Với mỗi điểm dữ liệu trong tập dữ liệu A và điểm truy vấn z, chúng ta sẽ áp dụng tất cả các hàm băm gi (1 ≤ i ≤ L) trong tập đã chọn. Điều này sẽ cung cấp cho chúng ta L giá trị băm cho mỗi điểm. Chúng ta có thể biểu diễn mỗi giá trị băm dưới dạng chuỗi nhị phân có độ dài b bằng cách mã hóa nó thành dấu của tích bên trong giữa hàm băm và điểm (1 nếu tích bên trong không âm và 0 nếu ngược lại). Do đó, đối với mỗi điểm, chúng ta có được biểu diễn vectơ bit L × b.\n",
        "\n",
        "Nói chính xác hơn, nếu một điểm x được băm bởi hàm băm gi thành giá trị h(x, gi), chúng ta có thể biểu diễn giá trị này dưới dạng một chuỗi nhị phân có độ dài b như sau:\n",
        "\n",
        "h(x, gi) = (dấu(gi(x)), kí(gi(x) + r1), . . . , kí(gi(x) + rk-1))\n",
        "\n",
        "trong đó r1, ..., rk-1 là các biến ngẫu nhiên độc lập phân bố đều trong [-1/2, 1/2]. Mỗi hàm ký hiệu trả về 1 nếu đối số của nó không âm và 0 nếu ngược lại. Do đó, độ dài của mỗi giá trị băm là k và chúng ta có b hàm băm như vậy gi (1 ≤ i ≤ L), do đó, tổng độ dài của biểu diễn hàm băm cho mỗi điểm là L × k × b bit.\n",
        "\n",
        "Tương tự, chúng ta có thể tính toán các giá trị băm L cho điểm truy vấn z bằng cách sử dụng tất cả các hàm băm gi (1 ≤ i ≤ L) trong tập đã chọn và thu được biểu diễn vectơ bit L × b cho điểm truy vấn.\n"
      ]
    },
    {
      "cell_type": "markdown",
      "metadata": {
        "id": "57B2II4aNr9g"
      },
      "source": [
        "3/\n",
        "Sau khi băm điểm truy vấn bằng cách sử dụng tất cả gi (1 ≤ i ≤ L), chúng ta thu được L chỉ số nhóm. Sau đó, chúng ta truy xuất tối đa 3L điểm dữ liệu từ bộ nhóm L mà điểm truy vấn băm vào. Để làm điều này, chọn ngẫu nhiên các thùng 3L từ các chỉ số thùng L thu được trước đó. Sau đó, chúng ta truy xuất tối đa 3L điểm dữ liệu từ mỗi nhóm 3L này (nếu có ít hơn 3L điểm dữ liệu trong một nhóm, sẽ truy xuất tất cả chúng).\n",
        "Lưu ý rằng chọn ngẫu nhiên các điểm dữ liệu một cách thống nhất để đảm bảo rằng quá trình truy xuất không thiên về bất kỳ tập hợp con điểm dữ liệu cụ thể nào."
      ]
    },
    {
      "cell_type": "markdown",
      "metadata": {
        "id": "PA5H84bvOJm9"
      },
      "source": [
        "4/\n",
        "Sau khi băm điểm truy vấn bằng cách sử dụng tất cả gi (1 ≤ i ≤ L), thu được L chỉ số nhóm. Sau đó, truy xuất tối đa 3L điểm dữ liệu từ bộ nhóm L mà điểm truy vấn băm vào. Để làm điều này, chọn ngẫu nhiên các thùng 3L từ các chỉ số thùng L thu được trước đó. Sau đó, truy xuất tối đa 3L điểm dữ liệu từ mỗi nhóm 3L này (nếu có ít hơn 3L điểm dữ liệu trong một nhóm, chúng tôi sẽ truy xuất tất cả chúng).\n",
        "Lưu ý rằng chọn ngẫu nhiên các điểm dữ liệu một cách thống nhất để đảm bảo rằng quá trình truy xuất không thiên về bất kỳ tập hợp con điểm dữ liệu cụ thể nào."
      ]
    },
    {
      "cell_type": "markdown",
      "metadata": {
        "id": "ttWDMcbUOZgb"
      },
      "source": [
        "a/Chứng minh cho 4(a):\n",
        "\n",
        "Đặt Xj là biến chỉ báo cho sự kiện một điểm dữ liệu trong T băm vào cùng một nhóm làm điểm truy vấn trong gj. Sau đó chúng tôi có:\n",
        "\n",
        "|T ∩ Wj| = |T ∩ Wj ∩ A| = ∑ x∈T ∩Wj∩A 1\n",
        "≤ ∑ x∈T 1{gj(x)=gj(z)}\n",
        "= ∑ x∈A 1{gj(x)=gj(z)}1{d(x,z)>cλ}\n",
        "= ∑ x∈A 1{gj(x)=gj(z)}−1{d(x,z)≤cλ}\n",
        "\n",
        "Bây giờ, chúng ta có thể lấy kỳ vọng của cả hai bên đối với sự lựa chọn ngẫu nhiên của gj:\n",
        "\n",
        "E[|T ∩ Wj|]\n",
        "≤ E[∑ x∈A 1{gj(x)=gj(z)}−1{d(x,z)≤cλ}]\n",
        "= nPr[gj(x)=gj(z)] − Pr[d(x, z) ≤ cλ]\n",
        "\n",
        "Sử dụng giả thiết rằng H nhạy cảm với (λ, cλ, p1, p2), chúng ta có:\n",
        "\n",
        "Pr[gj(x) = gj(z)] ≤ p1 với mọi x trong Wj\n",
        "Pr[d(x, z) ≤ cλ] ≤ p2 với mọi x trong Wj\n",
        "\n",
        "Do đó, chúng ta có thể đơn giản hóa hơn nữa biểu thức cho E[|T ∩ Wj|]:\n",
        "\n",
        "E[|T ∩ Wj|]\n",
        "≤ n · p1 − p2\n",
        "= p2 · (n/p2 · p1 − 1)\n",
        "\n",
        "Sử dụng bất đẳng thức Markov, chúng ta có thể giới hạn xác suất |T ∩ Wj| nhỏ hơn 3:\n",
        "\n",
        "Pr[|T ∩ Wj| <3]\n",
        "≤ E[|T ∩ Wj|]/3\n",
        "≤ p2/3 · (n/p2 · p1 − 1)\n",
        "\n",
        "Lấy liên kết ràng buộc trên tất cả các hàm băm L, chúng tôi nhận được:\n",
        "\n",
        "Pr[∃j : |T ∩ Wj| <3]\n",
        "≤ ∑Lj=1 Pr[|T ∩ Wj| <3]\n",
        "≤ Lp2/3 · (n/p2 · p1 − 1)\n",
        "= n(p1/p2)ρp2/3 − 1\n",
        "\n",
        "Vì p1/p2 < 1, nên ta có p2/3 > p1/p2, và do đó:\n",
        "\n",
        "n(p1/p2)ρp2/3 − 1\n",
        "< n(p1/p2)ρ(p1/p2)ρ/3 − 1\n",
        "= n(p1/p2)2ρ/3 − 1\n",
        "\n",
        "Sử dụng giả định rằng ρ = log(1/p1) log(1/p2), chúng ta có 2ρ/3 = log(1/p2)/log(1/p1), và do đó:\n",
        "\n",
        "n(p1/p2)2ρ/3 − 1 = n(p2/p1)−log(1/p2)/log(1/p1) − 1\n",
        "= n1−log(1/p1)/log(1/p2) − 1\n",
        "= ne−log(n)/log(1/p2) − 1\n",
        "< ne−log(n) = 1/n\n",
        "\n",
        "Như vậy, với xác suất ít nhất là 1 - 1/n, ta có |T ∩ Wj| ≥ 3 cho tất cả j, có nghĩa là chúng tôi sẽ truy xuất ít nhất 3L điểm dữ liệu trong bước 3."
      ]
    },
    {
      "cell_type": "markdown",
      "metadata": {
        "id": "Kj8ZNOY-PSYB"
      },
      "source": [
        "c/\n",
        "Để chỉ ra rằng điểm được báo cáo là một (c, λ)-ANN thực tế với xác suất cao, chúng ta cần chỉ ra rằng nếu có một điểm x trong tập dữ liệu sao cho d(x, z) ≤ λ, thì với xác suất cao điểm x' được báo cáo sao cho d(x', z) ≤ cλ.\n",
        "\n",
        "Giả sử tồn tại một điểm x trong tập dữ liệu sao cho d(x, z) ≤ λ. Khi đó, theo bất đẳng thức tam giác, ta có d(x', z) ≤ d(x', x) + d(x, z). Chúng ta biết rằng d(x, z) ≤ λ, do đó d(x', z) ≤ d(x', x) + λ.\n",
        "\n",
        "Gọi xj là một điểm trong Wj sao cho d(xj, z) ≤ λ. Vì xj nằm trong cùng nhóm với z trong hàm băm gj, nên chúng ta có gj(xj) = gj(z). Do đó, theo định nghĩa của Wj, chúng ta có xj ∈ Wj, và do đó, x' ∈ Wj. Do đó, d(x', xj) ≤ cλ theo định nghĩa của các hàm băm nhạy cảm với (λ, cλ, p1, p2).\n",
        "\n",
        "Bây giờ, chúng ta có thể áp dụng lại bất đẳng thức tam giác để thu được d(x', z) ≤ d(x', xj) + d(xj, z) ≤ cλ + λ = (c + 1)λ. Như vậy, nếu d(x, z) ≤ λ thì khả năng cao là d(x', z) ≤ (c + 1)λ.\n",
        "\n",
        "Vì c > 1 nên ta có thể chọn hằng số ε sao cho c + ε < c^2. Khi đó, chúng ta có d(x', z) ≤ (c + 1)λ < c^2λ, nghĩa là x' là một (c^2, λ)-ANN. Vì thuật toán trả về một điểm cách điểm lân cận gần nhất cλ và chúng tôi vừa chỉ ra rằng điểm được báo cáo là (c^2, λ)-ANN, nên chúng tôi có thể kết luận rằng với xác suất cao, điểm được báo cáo là một (c, λ)-ANN thực tế."
      ]
    },
    {
      "cell_type": "markdown",
      "metadata": {
        "id": "V7w_BhB_QCtd"
      },
      "source": []
    },
    {
      "cell_type": "code",
      "execution_count": null,
      "metadata": {
        "colab": {
          "base_uri": "https://localhost:8080/",
          "height": 86
        },
        "id": "qgcwMNdM3DFi",
        "outputId": "391295bf-a9c9-4c24-cae7-a1cfcfaca33f"
      },
      "outputs": [
        {
          "data": {
            "application/javascript": [
              "google.colab.output.setIframeHeight(0, true, {maxHeight: 400})"
            ],
            "text/plain": [
              "<IPython.core.display.Javascript object>"
            ]
          },
          "metadata": {},
          "output_type": "display_data"
        },
        {
          "data": {
            "application/javascript": [
              "google.colab.output.setIframeHeight(0, true, {maxHeight: 400})"
            ],
            "text/plain": [
              "<IPython.core.display.Javascript object>"
            ]
          },
          "metadata": {},
          "output_type": "display_data"
        },
        {
          "data": {
            "application/javascript": [
              "google.colab.output.setIframeHeight(0, true, {maxHeight: 400})"
            ],
            "text/plain": [
              "<IPython.core.display.Javascript object>"
            ]
          },
          "metadata": {},
          "output_type": "display_data"
        },
        {
          "data": {
            "application/javascript": [
              "google.colab.output.setIframeHeight(0, true, {maxHeight: 400})"
            ],
            "text/plain": [
              "<IPython.core.display.Javascript object>"
            ]
          },
          "metadata": {},
          "output_type": "display_data"
        },
        {
          "name": "stdout",
          "output_type": "stream",
          "text": [
            "Looking in indexes: https://pypi.org/simple, https://us-python.pkg.dev/colab-wheels/public/simple/\n",
            "Requirement already satisfied: lsh in /usr/local/lib/python3.9/dist-packages (0.1.2)\n",
            "Requirement already satisfied: numpy in /usr/local/lib/python3.9/dist-packages (from lsh) (1.22.4)\n",
            "Requirement already satisfied: bitarray in /usr/local/lib/python3.9/dist-packages (from lsh) (2.7.3)\n"
          ]
        }
      ],
      "source": [
        "!pip install lsh"
      ]
    },
    {
      "cell_type": "code",
      "execution_count": null,
      "metadata": {
        "colab": {
          "base_uri": "https://localhost:8080/",
          "height": 17
        },
        "id": "36SGh4g83Sdl",
        "outputId": "8f502f3a-a2ac-4d16-af03-80c250ecbd8d"
      },
      "outputs": [
        {
          "data": {
            "application/javascript": [
              "google.colab.output.setIframeHeight(0, true, {maxHeight: 400})"
            ],
            "text/plain": [
              "<IPython.core.display.Javascript object>"
            ]
          },
          "metadata": {},
          "output_type": "display_data"
        },
        {
          "data": {
            "application/javascript": [
              "google.colab.output.setIframeHeight(0, true, {maxHeight: 400})"
            ],
            "text/plain": [
              "<IPython.core.display.Javascript object>"
            ]
          },
          "metadata": {},
          "output_type": "display_data"
        },
        {
          "data": {
            "application/javascript": [
              "google.colab.output.setIframeHeight(0, true, {maxHeight: 400})"
            ],
            "text/plain": [
              "<IPython.core.display.Javascript object>"
            ]
          },
          "metadata": {},
          "output_type": "display_data"
        },
        {
          "data": {
            "application/javascript": [
              "google.colab.output.setIframeHeight(0, true, {maxHeight: 400})"
            ],
            "text/plain": [
              "<IPython.core.display.Javascript object>"
            ]
          },
          "metadata": {},
          "output_type": "display_data"
        }
      ],
      "source": [
        "from lsh import *\n",
        "import time\n",
        "from tabulate import tabulate\n",
        "import matplotlib.pyplot as plt"
      ]
    },
    {
      "cell_type": "code",
      "execution_count": null,
      "metadata": {
        "colab": {
          "base_uri": "https://localhost:8080/",
          "height": 17
        },
        "id": "JnuAWHB33YP0",
        "outputId": "ea934a33-af5b-4c0c-c215-3c723f52cfa0"
      },
      "outputs": [
        {
          "data": {
            "application/javascript": [
              "google.colab.output.setIframeHeight(0, true, {maxHeight: 400})"
            ],
            "text/plain": [
              "<IPython.core.display.Javascript object>"
            ]
          },
          "metadata": {},
          "output_type": "display_data"
        },
        {
          "data": {
            "application/javascript": [
              "google.colab.output.setIframeHeight(0, true, {maxHeight: 400})"
            ],
            "text/plain": [
              "<IPython.core.display.Javascript object>"
            ]
          },
          "metadata": {},
          "output_type": "display_data"
        },
        {
          "data": {
            "application/javascript": [
              "google.colab.output.setIframeHeight(0, true, {maxHeight: 400})"
            ],
            "text/plain": [
              "<IPython.core.display.Javascript object>"
            ]
          },
          "metadata": {},
          "output_type": "display_data"
        },
        {
          "data": {
            "application/javascript": [
              "google.colab.output.setIframeHeight(0, true, {maxHeight: 400})"
            ],
            "text/plain": [
              "<IPython.core.display.Javascript object>"
            ]
          },
          "metadata": {},
          "output_type": "display_data"
        }
      ],
      "source": [
        "# Load the dataset\n",
        "A = np.loadtxt('/content/drive/MyDrive/patches (1).csv', delimiter=',')"
      ]
    },
    {
      "cell_type": "code",
      "execution_count": null,
      "metadata": {
        "colab": {
          "base_uri": "https://localhost:8080/",
          "height": 34
        },
        "id": "wTRQvbsXDSjU",
        "outputId": "28456108-7dcd-463b-f857-cffa9893ff8a"
      },
      "outputs": [
        {
          "data": {
            "application/javascript": [
              "google.colab.output.setIframeHeight(0, true, {maxHeight: 400})"
            ],
            "text/plain": [
              "<IPython.core.display.Javascript object>"
            ]
          },
          "metadata": {},
          "output_type": "display_data"
        },
        {
          "data": {
            "application/javascript": [
              "google.colab.output.setIframeHeight(0, true, {maxHeight: 400})"
            ],
            "text/plain": [
              "<IPython.core.display.Javascript object>"
            ]
          },
          "metadata": {},
          "output_type": "display_data"
        },
        {
          "data": {
            "application/javascript": [
              "google.colab.output.setIframeHeight(0, true, {maxHeight: 400})"
            ],
            "text/plain": [
              "<IPython.core.display.Javascript object>"
            ]
          },
          "metadata": {},
          "output_type": "display_data"
        },
        {
          "data": {
            "application/javascript": [
              "google.colab.output.setIframeHeight(0, true, {maxHeight: 400})"
            ],
            "text/plain": [
              "<IPython.core.display.Javascript object>"
            ]
          },
          "metadata": {},
          "output_type": "display_data"
        },
        {
          "name": "stdout",
          "output_type": "stream",
          "text": [
            "Query points: [100, 200, 300, 400, 500, 600, 700, 800, 900, 1000]\n"
          ]
        }
      ],
      "source": [
        "# Defining the indices of the patches we want to search\n",
        "query_indices = range(100, 1100, 100)\n",
        "print(\"Query points: {}\".format([i for i in query_indices]))\n",
        "\n",
        "# Define LSH parameters\n",
        "L = 10\n",
        "k = 24\n",
        "num_neighbors = 3"
      ]
    },
    {
      "cell_type": "code",
      "execution_count": null,
      "metadata": {
        "colab": {
          "base_uri": "https://localhost:8080/",
          "height": 17
        },
        "id": "RoX8M8gjD8xL",
        "outputId": "fbd7a038-5110-4e01-858e-6a680b17c1d4"
      },
      "outputs": [
        {
          "data": {
            "application/javascript": [
              "google.colab.output.setIframeHeight(0, true, {maxHeight: 400})"
            ],
            "text/plain": [
              "<IPython.core.display.Javascript object>"
            ]
          },
          "metadata": {},
          "output_type": "display_data"
        },
        {
          "data": {
            "application/javascript": [
              "google.colab.output.setIframeHeight(0, true, {maxHeight: 400})"
            ],
            "text/plain": [
              "<IPython.core.display.Javascript object>"
            ]
          },
          "metadata": {},
          "output_type": "display_data"
        },
        {
          "data": {
            "application/javascript": [
              "google.colab.output.setIframeHeight(0, true, {maxHeight: 400})"
            ],
            "text/plain": [
              "<IPython.core.display.Javascript object>"
            ]
          },
          "metadata": {},
          "output_type": "display_data"
        },
        {
          "data": {
            "application/javascript": [
              "google.colab.output.setIframeHeight(0, true, {maxHeight: 400})"
            ],
            "text/plain": [
              "<IPython.core.display.Javascript object>"
            ]
          },
          "metadata": {},
          "output_type": "display_data"
        }
      ],
      "source": [
        "# Perform LSH and linear search\n",
        "lsh_search_times = [] # Time taken to run LSH search\n",
        "linear_search_times = [] # Time taken to run linear search\n",
        "lsh_neighbors_list = [] # List of LSH neighbors\n",
        "linear_neighbors_list = [] # List of linear neighbors\n",
        "\n",
        "for query_index in query_indices:\n",
        "    # Run LSH search\n",
        "    start_time = time.time()\n",
        "    lsh_search_times.append(time.time() - start_time)\n",
        "    \n",
        "    # Run linear search\n",
        "    start_time = time.time()\n",
        "    linear_search_times.append(time.time() - start_time)"
      ]
    },
    {
      "cell_type": "code",
      "execution_count": null,
      "metadata": {
        "colab": {
          "base_uri": "https://localhost:8080/",
          "height": 52
        },
        "id": "zPn1Sg-JEJbK",
        "outputId": "ffcb2cba-183f-4fd9-f033-9cdc8d005e08"
      },
      "outputs": [
        {
          "data": {
            "application/javascript": [
              "google.colab.output.setIframeHeight(0, true, {maxHeight: 400})"
            ],
            "text/plain": [
              "<IPython.core.display.Javascript object>"
            ]
          },
          "metadata": {},
          "output_type": "display_data"
        },
        {
          "data": {
            "application/javascript": [
              "google.colab.output.setIframeHeight(0, true, {maxHeight: 400})"
            ],
            "text/plain": [
              "<IPython.core.display.Javascript object>"
            ]
          },
          "metadata": {},
          "output_type": "display_data"
        },
        {
          "data": {
            "application/javascript": [
              "google.colab.output.setIframeHeight(0, true, {maxHeight: 400})"
            ],
            "text/plain": [
              "<IPython.core.display.Javascript object>"
            ]
          },
          "metadata": {},
          "output_type": "display_data"
        },
        {
          "data": {
            "application/javascript": [
              "google.colab.output.setIframeHeight(0, true, {maxHeight: 400})"
            ],
            "text/plain": [
              "<IPython.core.display.Javascript object>"
            ]
          },
          "metadata": {},
          "output_type": "display_data"
        },
        {
          "name": "stdout",
          "output_type": "stream",
          "text": [
            "LSH Average Search Time: 0.0000 seconds\n",
            "Linear Average Search Time: 0.0000 seconds\n"
          ]
        }
      ],
      "source": [
        "# Print results\n",
        "print(\"LSH Average Search Time: {:.4f} seconds\".format(np.mean(lsh_search_times)))\n",
        "print(\"Linear Average Search Time: {:.4f} seconds\".format(np.mean(linear_search_times)))\n",
        "\n",
        "headers = ['Query Index', 'LSH Neighbors', 'Linear Neighbors']\n",
        "table = []"
      ]
    }
  ],
  "metadata": {
    "colab": {
      "provenance": []
    },
    "kernelspec": {
      "display_name": "Python 3",
      "name": "python3"
    },
    "language_info": {
      "name": "python"
    }
  },
  "nbformat": 4,
  "nbformat_minor": 0
}